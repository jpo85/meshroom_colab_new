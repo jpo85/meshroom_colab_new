{
  "nbformat": 4,
  "nbformat_minor": 0,
  "metadata": {
    "colab": {
      "name": "runtime_script.ipynb",
      "provenance": [],
      "toc_visible": true,
      "include_colab_link": true
    },
    "kernelspec": {
      "name": "python3",
      "display_name": "Python 3"
    },
    "accelerator": "GPU"
  },
  "cells": [
    {
      "cell_type": "markdown",
      "metadata": {
        "id": "view-in-github",
        "colab_type": "text"
      },
      "source": [
        "<a href=\"https://colab.research.google.com/github/jpo85/meshroom_colab/blob/main/runtime_script.ipynb\" target=\"_parent\"><img src=\"https://colab.research.google.com/assets/colab-badge.svg\" alt=\"Open In Colab\"/></a>"
      ]
    },
    {
      "cell_type": "markdown",
      "metadata": {
        "id": "jj7c6rJCGwk8"
      },
      "source": [
        "# Fotogrammetria tramite Google Cloud & Meshroom\n",
        "\n",
        "Questa pagina web si prefigge lo scopo di facilitare l'elaborazione di un dataset di foto per tentare una prima elaborazione e ricostruzione fotogrammetrica. Gli strumenti che vengono utilizzati per eseguire l'elaborazione sono il servizio Google colab e Meshroom.\n",
        "\n",
        "Il servizio Google Colab, ha lo scopo di eseguire in cloud lo script composto da comandi shell bash e python per l'elaborazione delle immagini e la creazione della mesh 3d finale.\n",
        "Google Colab è una piattaforma di google, nata principalmente per eseguire quelle operazioni di machine learning che richiedono prestazioni e potenza di calcolo elevata. Nel nostro caso specifico verrà utilizzato per fini alternativi, e verrà messo a disposizione dall'infrastruttura cloud la seguente potenza di calcolo:\n",
        "\n",
        "*   32 GB di RAM\n",
        "*   GPU con 16GB di RAM dedicata e funzionalità CUDA\n",
        "*   Circa 40GB su filesystem\n",
        "\n",
        "Meshroom è un software con licenza opensource che consente tramite foto e video di effettuare una ricostruzione fotogrammetrica, basandosi sul framework AliceVision. L'interfaccia di utilizzo è basata sulla logica dei workflow, in cui ogni blocco è collegato al successivo salvando su una folder l'elaborazione temporanea ed infine generando una mesh poligonale. Questo runtime consente eventualmente anche di utilizzare un workflow custom in cui è possibile avere più risultati diversi:\n",
        "si può ad esempio aggiungere un workflow di post produzione che effettua un Meshdecimate + Retexturing + Retopology della mesh, oppure esportare la pointcloud prima che venga creata la mesh;\n",
        "si può aggiungere anche un workflow che esporta la mesh finale ed effettua l'upload su sketchfab.\n",
        "\n",
        "Per fare tutto ciò, basta creare un workflow custom tramite GUI dalla propria installazione meshroom su pc ed eportarlo in formato .mg in modo poi da copiare il file su google drive ed inserirlo nel comando\n",
        "\n",
        "*meshroom_compute --forceCompute /content/Mydrive/custom_workflow.mg*\n",
        "\n",
        "\n",
        "\n"
      ]
    },
    {
      "cell_type": "markdown",
      "metadata": {
        "id": "fo6hyKWgLh-u"
      },
      "source": [
        "# Come funziona\n",
        "\n",
        "La logica di questa guida è innanzitutto capire che non si tratta di una semplice pagina web statica ma di una vera e propria guida StepByStep in cui dopo ogni spiegazione è presente direttamente il codice già compilato da eseguire. In ogni cella è già scritto tutto il codice necessario per una elaborazione standard. Il workflow di default che viene eseguito in questa guida consente di leggere una dataset di foto e generare un file obj 3d con le sue relative texture.\n",
        "il risutato finale sarà:\n",
        "\n",
        "*   1 file in formato .obj\n",
        "*   vari file di texture in formato .jpeg\n",
        "*   1 file con la libreria dei materia in formato .mtl\n",
        "\n",
        "Il codice presente è modificabile a seconda delle proprie esigenze. Ad esempio se si dispone di un workflow meshroom custom (.mg file)si può eseguire la realtiva cella avendo precedentemente importato il file e avendo l'accortezza di modificare al suo interno tutti i path.\n",
        "\n",
        "Di default il comando nella cella è commentato, per eseguirlo deve essere decommentato\n",
        "\n",
        "\n",
        "\n",
        "\n"
      ]
    },
    {
      "cell_type": "markdown",
      "metadata": {
        "id": "thYq-kOiP7wG"
      },
      "source": [
        "# Prerequisiti\n",
        "\n",
        "Lo script per essere eseguito prevede una minima configurazione iniziale e non necessita successivamente di scrivere codice.\n",
        "Come prerequisito serve avere un'account google drive con spazio a sufficienza per fare l'upload delle foto e salvare la mesh finale. Lo script infatti utilizza come input e output due folder di google drive, le quali dovranno essere create a mano per consentire al codice di leggere le foto, elaborarle e salvare la mesh finale."
      ]
    },
    {
      "cell_type": "markdown",
      "metadata": {
        "id": "btIRsfytTd_L"
      },
      "source": [
        "# Guida StepByStep\n",
        "\n",
        "Di seguito uno dopo l'altro sono riportati tutti i passaggi da eseguire che guideranno l'utente nell'elaborazione fotogrammetrica.\n",
        "\n",
        "Per eseguire il codice basta cliccare sul tasto play (run cell).\n",
        "Comparirà un messaggio di avviso, andare avanti e cliccare su run anyway.\n",
        "\n",
        "Per funzionare richiede l'accesso con un account google."
      ]
    },
    {
      "cell_type": "markdown",
      "metadata": {
        "id": "kcAhqbDTzSNH"
      },
      "source": [
        "**0. Configurare il runtime in modalità GPU ed eseguire il check**\n",
        "\n",
        "Questo blocco una volta eseguito consente di verificare se il runtime è configurato con l'utilizzo della GPU. Nel caso in cui l'esito fosse negativo, si riporta di seguito come abilitare tale funzione. Si ricorda che la GPU è fondamentale per una esecuzione più veloce dello script.\n",
        "\n",
        "*Abilitare le GPU per il notebook:\n",
        "Andare su Runtime → Change runtime type → Hardware Accelertor → select GPU\n",
        "\n",
        "---\n",
        "\n",
        "L' output dello script deve dare come risultato:\n",
        "\n",
        "**Found GPU at: /device:GPU:0**\n",
        "\n",
        "in questo caso sarà configurato in modo corretto\n",
        "\n"
      ]
    },
    {
      "cell_type": "code",
      "metadata": {
        "id": "cyeTmmZazgTu",
        "outputId": "e7368326-d05a-419b-c78e-142d06a49d85",
        "colab": {
          "base_uri": "https://localhost:8080/"
        }
      },
      "source": [
        "%tensorflow_version 2.x\n",
        "import tensorflow as tf\n",
        "device_name = tf.test.gpu_device_name()\n",
        "if device_name != '/device:GPU:0':\n",
        "  raise SystemError('GPU device not found')\n",
        "print('Found GPU at: {}'.format(device_name))"
      ],
      "execution_count": 1,
      "outputs": [
        {
          "output_type": "stream",
          "name": "stdout",
          "text": [
            "Colab only includes TensorFlow 2.x; %tensorflow_version has no effect.\n",
            "Found GPU at: /device:GPU:0\n"
          ]
        }
      ]
    },
    {
      "cell_type": "markdown",
      "metadata": {
        "id": "3wBFjbjIz9ZX"
      },
      "source": [
        "**1. Connettere un account Google Drive**\n",
        "\n",
        "Come prima cosa bisogna aver creato nel filesystem di google drive nella root, due folder chiamate /input e /output\n",
        "\n",
        "\n",
        "*   dentro /input effettuare l'upload del dataset di foto\n",
        "*   dentro /output a fine ricostruzione verrà salvata la mesh + textures + mtl\n",
        "\n",
        "Eseguendo il codice verrà richiesto l'authorization code per autorizzare il runtime ad accedere al filesystem di google drive. Cliccare sul link, copiare la key generata incollarla nella text input premere Invio.\n",
        "\n",
        "Una volta terminata l'esecuzione si vedrà nel filesystem del runtime il mountpont di google drive dentro /content/drive/MyDrive\n"
      ]
    },
    {
      "cell_type": "code",
      "metadata": {
        "id": "NB2T3gnb1GY4",
        "outputId": "5d8373c2-696c-412d-8b7f-0cb8541af6b8",
        "colab": {
          "base_uri": "https://localhost:8080/"
        }
      },
      "source": [
        "from google.colab import drive\n",
        "drive.mount('/content/drive', force_remount=True)"
      ],
      "execution_count": 2,
      "outputs": [
        {
          "output_type": "stream",
          "name": "stdout",
          "text": [
            "Mounted at /content/drive\n"
          ]
        }
      ]
    },
    {
      "cell_type": "markdown",
      "metadata": {
        "id": "kpxHm8UdUpzc"
      },
      "source": [
        "**2. Creare le folder necessarie e fare il download di meshroom:**\n",
        "\n",
        "Questo codice crea due folder necessarie per ospitare l'eseguibile di meshroom zippato e scompattarlo.\n",
        "\n",
        "*   /content/temp - contiene il pacchetto meshroom scaricato\n",
        "*   /content/meshroom - contiene tutti gli eseguibili di meshroom scompattati e\n",
        "pronti per essere eseguiti\n",
        "\n",
        "La versione utilizzata di Meshroom è la 2021.1.0 for linux."
      ]
    },
    {
      "cell_type": "code",
      "metadata": {
        "id": "HIsZd9i70xVT",
        "outputId": "fbced0b4-e589-423e-c8ba-c8551770cc43",
        "colab": {
          "base_uri": "https://localhost:8080/"
        }
      },
      "source": [
        "%cd /content\n",
        "!mkdir temp\n",
        "!mkdir meshroom\n",
        "%cd temp\n",
        "!wget -N https://github.com/alicevision/Meshroom/archive/refs/tags/v2023.2.0.tar.gz\n",
        "!tar -xvf v2023.2.0.tar.gz -C ../meshroom"
      ],
      "execution_count": 25,
      "outputs": [
        {
          "output_type": "stream",
          "name": "stdout",
          "text": [
            "/content\n",
            "mkdir: cannot create directory ‘temp’: File exists\n",
            "mkdir: cannot create directory ‘meshroom’: File exists\n",
            "/content/temp\n",
            "--2023-09-20 08:55:08--  https://github.com/alicevision/Meshroom/archive/refs/tags/v2023.2.0.tar.gz\n",
            "Resolving github.com (github.com)... 192.30.255.112\n",
            "Connecting to github.com (github.com)|192.30.255.112|:443... connected.\n",
            "HTTP request sent, awaiting response... 302 Found\n",
            "Location: https://codeload.github.com/alicevision/Meshroom/tar.gz/refs/tags/v2023.2.0 [following]\n",
            "--2023-09-20 08:55:08--  https://codeload.github.com/alicevision/Meshroom/tar.gz/refs/tags/v2023.2.0\n",
            "Resolving codeload.github.com (codeload.github.com)... 192.30.255.120\n",
            "Connecting to codeload.github.com (codeload.github.com)|192.30.255.120|:443... connected.\n",
            "HTTP request sent, awaiting response... 200 OK\n",
            "Length: unspecified [application/x-gzip]\n",
            "Saving to: ‘v2023.2.0.tar.gz’\n",
            "\n",
            "v2023.2.0.tar.gz        [ <=>                ] 572.35K  --.-KB/s    in 0.09s   \n",
            "\n",
            "Last-modified header missing -- time-stamps turned off.\n",
            "2023-09-20 08:55:08 (6.50 MB/s) - ‘v2023.2.0.tar.gz’ saved [586086]\n",
            "\n",
            "Meshroom-2023.2.0/\n",
            "Meshroom-2023.2.0/.github/\n",
            "Meshroom-2023.2.0/.github/FUNDING.yml\n",
            "Meshroom-2023.2.0/.github/ISSUE_TEMPLATE/\n",
            "Meshroom-2023.2.0/.github/ISSUE_TEMPLATE/bug_report.md\n",
            "Meshroom-2023.2.0/.github/ISSUE_TEMPLATE/feature_request.md\n",
            "Meshroom-2023.2.0/.github/ISSUE_TEMPLATE/question_help.md\n",
            "Meshroom-2023.2.0/.github/pull_request_template.md\n",
            "Meshroom-2023.2.0/.github/stale.yml\n",
            "Meshroom-2023.2.0/.github/workflows/\n",
            "Meshroom-2023.2.0/.github/workflows/continuous-integration.yml\n",
            "Meshroom-2023.2.0/.gitignore\n",
            "Meshroom-2023.2.0/.readthedocs.yaml\n",
            "Meshroom-2023.2.0/.travis.yml\n",
            "Meshroom-2023.2.0/CHANGES.md\n",
            "Meshroom-2023.2.0/CMakeLists.txt\n",
            "Meshroom-2023.2.0/CODE_OF_CONDUCT.md\n",
            "Meshroom-2023.2.0/CONTRIBUTING.md\n",
            "Meshroom-2023.2.0/COPYING.md\n",
            "Meshroom-2023.2.0/INSTALL.md\n",
            "Meshroom-2023.2.0/LICENSE-MPL2.md\n",
            "Meshroom-2023.2.0/README.md\n",
            "Meshroom-2023.2.0/RELEASING.md\n",
            "Meshroom-2023.2.0/appveyor.yml\n",
            "Meshroom-2023.2.0/bin/\n",
            "Meshroom-2023.2.0/bin/ion_start_meshroom.sh\n",
            "Meshroom-2023.2.0/bin/meshroom_batch\n",
            "Meshroom-2023.2.0/bin/meshroom_compute\n",
            "Meshroom-2023.2.0/bin/meshroom_newNodeType\n",
            "Meshroom-2023.2.0/bin/meshroom_statistics\n",
            "Meshroom-2023.2.0/bin/meshroom_status\n",
            "Meshroom-2023.2.0/bin/meshroom_submit\n",
            "Meshroom-2023.2.0/dev_requirements.txt\n",
            "Meshroom-2023.2.0/docker/\n",
            "Meshroom-2023.2.0/docker/Dockerfile_centos\n",
            "Meshroom-2023.2.0/docker/Dockerfile_centos_deps\n",
            "Meshroom-2023.2.0/docker/Dockerfile_ubuntu\n",
            "Meshroom-2023.2.0/docker/Dockerfile_ubuntu_deps\n",
            "Meshroom-2023.2.0/docker/build-all.sh\n",
            "Meshroom-2023.2.0/docker/build-centos.sh\n",
            "Meshroom-2023.2.0/docker/build-ubuntu.sh\n",
            "Meshroom-2023.2.0/docker/extract.sh\n",
            "Meshroom-2023.2.0/docker/qt-installer-noninteractive.qs\n",
            "Meshroom-2023.2.0/docs/\n",
            "Meshroom-2023.2.0/docs/.gitignore\n",
            "Meshroom-2023.2.0/docs/Makefile\n",
            "Meshroom-2023.2.0/docs/README.md\n",
            "Meshroom-2023.2.0/docs/logo/\n",
            "Meshroom-2023.2.0/docs/logo/banner-meshroom.png\n",
            "Meshroom-2023.2.0/docs/logo/logo-meshroom-128.png\n",
            "Meshroom-2023.2.0/docs/make.bat\n",
            "Meshroom-2023.2.0/docs/requirements.txt\n",
            "Meshroom-2023.2.0/docs/source/\n",
            "Meshroom-2023.2.0/docs/source/_ext/\n",
            "Meshroom-2023.2.0/docs/source/_ext/__init__.py\n",
            "Meshroom-2023.2.0/docs/source/_ext/fetch_md.py\n",
            "Meshroom-2023.2.0/docs/source/_ext/meshroom_doc.py\n",
            "Meshroom-2023.2.0/docs/source/_ext/utils.py\n",
            "Meshroom-2023.2.0/docs/source/_templates/\n",
            "Meshroom-2023.2.0/docs/source/_templates/autosummary/\n",
            "Meshroom-2023.2.0/docs/source/_templates/autosummary/class.rst\n",
            "Meshroom-2023.2.0/docs/source/_templates/autosummary/module.rst\n",
            "Meshroom-2023.2.0/docs/source/api.rst\n",
            "Meshroom-2023.2.0/docs/source/changes.rst\n",
            "Meshroom-2023.2.0/docs/source/conf.py\n",
            "Meshroom-2023.2.0/docs/source/index.rst\n",
            "Meshroom-2023.2.0/docs/source/install.rst\n",
            "Meshroom-2023.2.0/meshroom/\n",
            "Meshroom-2023.2.0/meshroom/__init__.py\n",
            "Meshroom-2023.2.0/meshroom/common/\n",
            "Meshroom-2023.2.0/meshroom/common/PySignal.py\n",
            "Meshroom-2023.2.0/meshroom/common/__init__.py\n",
            "Meshroom-2023.2.0/meshroom/common/core.py\n",
            "Meshroom-2023.2.0/meshroom/common/qt.py\n",
            "Meshroom-2023.2.0/meshroom/core/\n",
            "Meshroom-2023.2.0/meshroom/core/__init__.py\n",
            "Meshroom-2023.2.0/meshroom/core/attribute.py\n",
            "Meshroom-2023.2.0/meshroom/core/cgroup.py\n",
            "Meshroom-2023.2.0/meshroom/core/desc.py\n",
            "Meshroom-2023.2.0/meshroom/core/exception.py\n",
            "Meshroom-2023.2.0/meshroom/core/graph.py\n",
            "Meshroom-2023.2.0/meshroom/core/node.py\n",
            "Meshroom-2023.2.0/meshroom/core/stats.py\n",
            "Meshroom-2023.2.0/meshroom/core/submitter.py\n",
            "Meshroom-2023.2.0/meshroom/core/taskManager.py\n",
            "Meshroom-2023.2.0/meshroom/multiview.py\n",
            "Meshroom-2023.2.0/meshroom/nodes/\n",
            "Meshroom-2023.2.0/meshroom/nodes/__init__.py\n",
            "Meshroom-2023.2.0/meshroom/nodes/aliceVision/\n",
            "Meshroom-2023.2.0/meshroom/nodes/aliceVision/ApplyCalibration.py\n",
            "Meshroom-2023.2.0/meshroom/nodes/aliceVision/CameraCalibration.py\n",
            "Meshroom-2023.2.0/meshroom/nodes/aliceVision/CameraInit.py\n",
            "Meshroom-2023.2.0/meshroom/nodes/aliceVision/CameraLocalization.py\n",
            "Meshroom-2023.2.0/meshroom/nodes/aliceVision/CameraRigCalibration.py\n",
            "Meshroom-2023.2.0/meshroom/nodes/aliceVision/CameraRigLocalization.py\n",
            "Meshroom-2023.2.0/meshroom/nodes/aliceVision/CheckerboardDetection.py\n",
            "Meshroom-2023.2.0/meshroom/nodes/aliceVision/ColorCheckerCorrection.py\n",
            "Meshroom-2023.2.0/meshroom/nodes/aliceVision/ColorCheckerDetection.py\n",
            "Meshroom-2023.2.0/meshroom/nodes/aliceVision/ConvertMesh.py\n",
            "Meshroom-2023.2.0/meshroom/nodes/aliceVision/ConvertSfMFormat.py\n",
            "Meshroom-2023.2.0/meshroom/nodes/aliceVision/DepthMap.py\n",
            "Meshroom-2023.2.0/meshroom/nodes/aliceVision/DepthMapFilter.py\n",
            "Meshroom-2023.2.0/meshroom/nodes/aliceVision/DistortionCalibration.py\n",
            "Meshroom-2023.2.0/meshroom/nodes/aliceVision/ExportAnimatedCamera.py\n",
            "Meshroom-2023.2.0/meshroom/nodes/aliceVision/ExportColoredPointCloud.py\n",
            "Meshroom-2023.2.0/meshroom/nodes/aliceVision/ExportDistortion.py\n",
            "Meshroom-2023.2.0/meshroom/nodes/aliceVision/ExportMatches.py\n",
            "Meshroom-2023.2.0/meshroom/nodes/aliceVision/ExportMaya.py\n",
            "Meshroom-2023.2.0/meshroom/nodes/aliceVision/FeatureExtraction.py\n",
            "Meshroom-2023.2.0/meshroom/nodes/aliceVision/FeatureMatching.py\n",
            "Meshroom-2023.2.0/meshroom/nodes/aliceVision/FeatureRepeatability.py\n",
            "Meshroom-2023.2.0/meshroom/nodes/aliceVision/GlobalSfM.py\n",
            "Meshroom-2023.2.0/meshroom/nodes/aliceVision/ImageMasking.py\n",
            "Meshroom-2023.2.0/meshroom/nodes/aliceVision/ImageMatching.py\n",
            "Meshroom-2023.2.0/meshroom/nodes/aliceVision/ImageMatchingMultiSfM.py\n",
            "Meshroom-2023.2.0/meshroom/nodes/aliceVision/ImageProcessing.py\n",
            "Meshroom-2023.2.0/meshroom/nodes/aliceVision/ImportKnownPoses.py\n",
            "Meshroom-2023.2.0/meshroom/nodes/aliceVision/KeyframeSelection.py\n",
            "Meshroom-2023.2.0/meshroom/nodes/aliceVision/LdrToHdrCalibration.py\n",
            "Meshroom-2023.2.0/meshroom/nodes/aliceVision/LdrToHdrMerge.py\n",
            "Meshroom-2023.2.0/meshroom/nodes/aliceVision/LdrToHdrSampling.py\n",
            "Meshroom-2023.2.0/meshroom/nodes/aliceVision/LightingCalibration.py\n",
            "Meshroom-2023.2.0/meshroom/nodes/aliceVision/LightingEstimation.py\n",
            "Meshroom-2023.2.0/meshroom/nodes/aliceVision/MergeMeshes.py\n",
            "Meshroom-2023.2.0/meshroom/nodes/aliceVision/MeshDecimate.py\n",
            "Meshroom-2023.2.0/meshroom/nodes/aliceVision/MeshDenoising.py\n",
            "Meshroom-2023.2.0/meshroom/nodes/aliceVision/MeshFiltering.py\n",
            "Meshroom-2023.2.0/meshroom/nodes/aliceVision/MeshMasking.py\n",
            "Meshroom-2023.2.0/meshroom/nodes/aliceVision/MeshResampling.py\n",
            "Meshroom-2023.2.0/meshroom/nodes/aliceVision/Meshing.py\n",
            "Meshroom-2023.2.0/meshroom/nodes/aliceVision/NormalIntegration.py\n",
            "Meshroom-2023.2.0/meshroom/nodes/aliceVision/PanoramaCompositing.py\n",
            "Meshroom-2023.2.0/meshroom/nodes/aliceVision/PanoramaEstimation.py\n",
            "Meshroom-2023.2.0/meshroom/nodes/aliceVision/PanoramaInit.py\n",
            "Meshroom-2023.2.0/meshroom/nodes/aliceVision/PanoramaMerging.py\n",
            "Meshroom-2023.2.0/meshroom/nodes/aliceVision/PanoramaPostProcessing.py\n",
            "Meshroom-2023.2.0/meshroom/nodes/aliceVision/PanoramaPrepareImages.py\n",
            "Meshroom-2023.2.0/meshroom/nodes/aliceVision/PanoramaSeams.py\n",
            "Meshroom-2023.2.0/meshroom/nodes/aliceVision/PanoramaWarping.py\n",
            "Meshroom-2023.2.0/meshroom/nodes/aliceVision/PhotometricStereo.py\n",
            "Meshroom-2023.2.0/meshroom/nodes/aliceVision/PrepareDenseScene.py\n",
            "Meshroom-2023.2.0/meshroom/nodes/aliceVision/Publish.py\n",
            "Meshroom-2023.2.0/meshroom/nodes/aliceVision/SfMAlignment.py\n",
            "Meshroom-2023.2.0/meshroom/nodes/aliceVision/SfMDistances.py\n",
            "Meshroom-2023.2.0/meshroom/nodes/aliceVision/SfMTransfer.py\n",
            "Meshroom-2023.2.0/meshroom/nodes/aliceVision/SfMTransform.py\n",
            "Meshroom-2023.2.0/meshroom/nodes/aliceVision/SfMTriangulation.py\n",
            "Meshroom-2023.2.0/meshroom/nodes/aliceVision/SketchfabUpload.py\n",
            "Meshroom-2023.2.0/meshroom/nodes/aliceVision/SphereDetection.py\n",
            "Meshroom-2023.2.0/meshroom/nodes/aliceVision/Split360Images.py\n",
            "Meshroom-2023.2.0/meshroom/nodes/aliceVision/StructureFromMotion.py\n",
            "Meshroom-2023.2.0/meshroom/nodes/aliceVision/Texturing.py\n",
            "Meshroom-2023.2.0/meshroom/nodes/aliceVision/TracksBuilding.py\n",
            "Meshroom-2023.2.0/meshroom/nodes/aliceVision/__init__.py\n",
            "Meshroom-2023.2.0/meshroom/nodes/blender/\n",
            "Meshroom-2023.2.0/meshroom/nodes/blender/ScenePreview.py\n",
            "Meshroom-2023.2.0/meshroom/nodes/blender/__init__.py\n",
            "Meshroom-2023.2.0/meshroom/nodes/blender/scripts/\n",
            "Meshroom-2023.2.0/meshroom/nodes/blender/scripts/preview.py\n",
            "Meshroom-2023.2.0/meshroom/pipelines/\n",
            "Meshroom-2023.2.0/meshroom/pipelines/cameraTracking.mg\n",
            "Meshroom-2023.2.0/meshroom/pipelines/distortionCalibration.mg\n",
            "Meshroom-2023.2.0/meshroom/pipelines/hdrFusion.mg\n",
            "Meshroom-2023.2.0/meshroom/pipelines/panoramaFisheyeHdr.mg\n",
            "Meshroom-2023.2.0/meshroom/pipelines/panoramaHdr.mg\n",
            "Meshroom-2023.2.0/meshroom/pipelines/photogrammetry.mg\n",
            "Meshroom-2023.2.0/meshroom/pipelines/photogrammetryAndCameraTracking.mg\n",
            "Meshroom-2023.2.0/meshroom/pipelines/photogrammetryDraft.mg\n",
            "Meshroom-2023.2.0/meshroom/pipelines/stereoPhotometry.mg\n",
            "Meshroom-2023.2.0/meshroom/submitters/\n",
            "Meshroom-2023.2.0/meshroom/submitters/__init__.py\n",
            "Meshroom-2023.2.0/meshroom/submitters/rippleSubmitter.py\n",
            "Meshroom-2023.2.0/meshroom/submitters/simpleFarmConfig.json\n",
            "Meshroom-2023.2.0/meshroom/submitters/simpleFarmSubmitter.py\n",
            "Meshroom-2023.2.0/meshroom/ui/\n",
            "Meshroom-2023.2.0/meshroom/ui/__init__.py\n",
            "Meshroom-2023.2.0/meshroom/ui/__main__.py\n",
            "Meshroom-2023.2.0/meshroom/ui/app.py\n",
            "Meshroom-2023.2.0/meshroom/ui/commands.py\n",
            "Meshroom-2023.2.0/meshroom/ui/components/\n",
            "Meshroom-2023.2.0/meshroom/ui/components/__init__.py\n",
            "Meshroom-2023.2.0/meshroom/ui/components/clipboard.py\n",
            "Meshroom-2023.2.0/meshroom/ui/components/csvData.py\n",
            "Meshroom-2023.2.0/meshroom/ui/components/edge.py\n",
            "Meshroom-2023.2.0/meshroom/ui/components/filepath.py\n",
            "Meshroom-2023.2.0/meshroom/ui/components/scene3D.py\n",
            "Meshroom-2023.2.0/meshroom/ui/components/thumbnail.py\n",
            "Meshroom-2023.2.0/meshroom/ui/graph.py\n",
            "Meshroom-2023.2.0/meshroom/ui/img/\n",
            "Meshroom-2023.2.0/meshroom/ui/img/GitHub-Mark-Light-32px.png\n",
            "Meshroom-2023.2.0/meshroom/ui/img/checkerboard_light.png\n",
            "Meshroom-2023.2.0/meshroom/ui/img/meshroom-tagline-vertical.svg\n",
            "Meshroom-2023.2.0/meshroom/ui/img/meshroom.ico\n",
            "Meshroom-2023.2.0/meshroom/ui/img/meshroom.svg\n",
            "Meshroom-2023.2.0/meshroom/ui/palette.py\n",
            "Meshroom-2023.2.0/meshroom/ui/qml/\n",
            "Meshroom-2023.2.0/meshroom/ui/qml/AboutDialog.qml\n",
            "Meshroom-2023.2.0/meshroom/ui/qml/Charts/\n",
            "Meshroom-2023.2.0/meshroom/ui/qml/Charts/ChartViewCheckBox.qml\n",
            "Meshroom-2023.2.0/meshroom/ui/qml/Charts/ChartViewLegend.qml\n",
            "Meshroom-2023.2.0/meshroom/ui/qml/Charts/InteractiveChartView.qml\n",
            "Meshroom-2023.2.0/meshroom/ui/qml/Charts/qmldir\n",
            "Meshroom-2023.2.0/meshroom/ui/qml/Controls/\n",
            "Meshroom-2023.2.0/meshroom/ui/qml/Controls/ColorChart.qml\n",
            "Meshroom-2023.2.0/meshroom/ui/qml/Controls/ExifOrientedViewer.qml\n",
            "Meshroom-2023.2.0/meshroom/ui/qml/Controls/FloatingPane.qml\n",
            "Meshroom-2023.2.0/meshroom/ui/qml/Controls/Group.qml\n",
            "Meshroom-2023.2.0/meshroom/ui/qml/Controls/KeyValue.qml\n",
            "Meshroom-2023.2.0/meshroom/ui/qml/Controls/MessageDialog.qml\n",
            "Meshroom-2023.2.0/meshroom/ui/qml/Controls/Panel.qml\n",
            "Meshroom-2023.2.0/meshroom/ui/qml/Controls/SearchBar.qml\n",
            "Meshroom-2023.2.0/meshroom/ui/qml/Controls/TabPanel.qml\n",
            "Meshroom-2023.2.0/meshroom/ui/qml/Controls/TextFileViewer.qml\n",
            "Meshroom-2023.2.0/meshroom/ui/qml/Controls/qmldir\n",
            "Meshroom-2023.2.0/meshroom/ui/qml/DialogsFactory.qml\n",
            "Meshroom-2023.2.0/meshroom/ui/qml/GraphEditor/\n",
            "Meshroom-2023.2.0/meshroom/ui/qml/GraphEditor/AttributeEditor.qml\n",
            "Meshroom-2023.2.0/meshroom/ui/qml/GraphEditor/AttributeItemDelegate.qml\n",
            "Meshroom-2023.2.0/meshroom/ui/qml/GraphEditor/AttributePin.qml\n",
            "Meshroom-2023.2.0/meshroom/ui/qml/GraphEditor/ChunksListView.qml\n",
            "Meshroom-2023.2.0/meshroom/ui/qml/GraphEditor/CompatibilityBadge.qml\n",
            "Meshroom-2023.2.0/meshroom/ui/qml/GraphEditor/CompatibilityManager.qml\n",
            "Meshroom-2023.2.0/meshroom/ui/qml/GraphEditor/Edge.qml\n",
            "Meshroom-2023.2.0/meshroom/ui/qml/GraphEditor/GraphEditor.qml\n",
            "Meshroom-2023.2.0/meshroom/ui/qml/GraphEditor/GraphEditorSettings.qml\n",
            "Meshroom-2023.2.0/meshroom/ui/qml/GraphEditor/Node.qml\n",
            "Meshroom-2023.2.0/meshroom/ui/qml/GraphEditor/NodeChunks.qml\n",
            "Meshroom-2023.2.0/meshroom/ui/qml/GraphEditor/NodeDocumentation.qml\n",
            "Meshroom-2023.2.0/meshroom/ui/qml/GraphEditor/NodeEditor.qml\n",
            "Meshroom-2023.2.0/meshroom/ui/qml/GraphEditor/NodeLog.qml\n",
            "Meshroom-2023.2.0/meshroom/ui/qml/GraphEditor/NodeStatistics.qml\n",
            "Meshroom-2023.2.0/meshroom/ui/qml/GraphEditor/NodeStatus.qml\n",
            "Meshroom-2023.2.0/meshroom/ui/qml/GraphEditor/StatViewer.qml\n",
            "Meshroom-2023.2.0/meshroom/ui/qml/GraphEditor/TaskManager.qml\n",
            "Meshroom-2023.2.0/meshroom/ui/qml/GraphEditor/common.js\n",
            "Meshroom-2023.2.0/meshroom/ui/qml/GraphEditor/qmldir\n",
            "Meshroom-2023.2.0/meshroom/ui/qml/ImageGallery/\n",
            "Meshroom-2023.2.0/meshroom/ui/qml/ImageGallery/ImageBadge.qml\n",
            "Meshroom-2023.2.0/meshroom/ui/qml/ImageGallery/ImageDelegate.qml\n",
            "Meshroom-2023.2.0/meshroom/ui/qml/ImageGallery/ImageGallery.qml\n",
            "Meshroom-2023.2.0/meshroom/ui/qml/ImageGallery/IntrinsicDisplayDelegate.qml\n",
            "Meshroom-2023.2.0/meshroom/ui/qml/ImageGallery/IntrinsicsIndicator.qml\n",
            "Meshroom-2023.2.0/meshroom/ui/qml/ImageGallery/SensorDBDialog.qml\n",
            "Meshroom-2023.2.0/meshroom/ui/qml/ImageGallery/qmldir\n",
            "Meshroom-2023.2.0/meshroom/ui/qml/LiveSfmView.qml\n",
            "Meshroom-2023.2.0/meshroom/ui/qml/MaterialIcons/\n",
            "Meshroom-2023.2.0/meshroom/ui/qml/MaterialIcons/MLabel.qml\n",
            "Meshroom-2023.2.0/meshroom/ui/qml/MaterialIcons/MaterialIcons-Regular.ttf\n",
            "Meshroom-2023.2.0/meshroom/ui/qml/MaterialIcons/MaterialIcons.qml\n",
            "Meshroom-2023.2.0/meshroom/ui/qml/MaterialIcons/MaterialLabel.qml\n",
            "Meshroom-2023.2.0/meshroom/ui/qml/MaterialIcons/MaterialToolButton.qml\n",
            "Meshroom-2023.2.0/meshroom/ui/qml/MaterialIcons/MaterialToolLabel.qml\n",
            "Meshroom-2023.2.0/meshroom/ui/qml/MaterialIcons/MaterialToolLabelButton.qml\n",
            "Meshroom-2023.2.0/meshroom/ui/qml/MaterialIcons/qmldir\n",
            "Meshroom-2023.2.0/meshroom/ui/qml/Utils/\n",
            "Meshroom-2023.2.0/meshroom/ui/qml/Utils/Clipboard.qml\n",
            "Meshroom-2023.2.0/meshroom/ui/qml/Utils/Colors.qml\n",
            "Meshroom-2023.2.0/meshroom/ui/qml/Utils/ExifOrientation.qml\n",
            "Meshroom-2023.2.0/meshroom/ui/qml/Utils/Filepath.qml\n",
            "Meshroom-2023.2.0/meshroom/ui/qml/Utils/Scene3DHelper.qml\n",
            "Meshroom-2023.2.0/meshroom/ui/qml/Utils/SortFilterDelegateModel.qml\n",
            "Meshroom-2023.2.0/meshroom/ui/qml/Utils/Transformations3DHelper.qml\n",
            "Meshroom-2023.2.0/meshroom/ui/qml/Utils/errorHandler.js\n",
            "Meshroom-2023.2.0/meshroom/ui/qml/Utils/format.js\n",
            "Meshroom-2023.2.0/meshroom/ui/qml/Utils/qmldir\n",
            "Meshroom-2023.2.0/meshroom/ui/qml/Utils/request.js\n",
            "Meshroom-2023.2.0/meshroom/ui/qml/Viewer/\n",
            "Meshroom-2023.2.0/meshroom/ui/qml/Viewer/CameraResponseGraph.qml\n",
            "Meshroom-2023.2.0/meshroom/ui/qml/Viewer/CircleGizmo.qml\n",
            "Meshroom-2023.2.0/meshroom/ui/qml/Viewer/ColorCheckerEntity.qml\n",
            "Meshroom-2023.2.0/meshroom/ui/qml/Viewer/ColorCheckerPane.qml\n",
            "Meshroom-2023.2.0/meshroom/ui/qml/Viewer/ColorCheckerViewer.qml\n",
            "Meshroom-2023.2.0/meshroom/ui/qml/Viewer/FeaturesInfoOverlay.qml\n",
            "Meshroom-2023.2.0/meshroom/ui/qml/Viewer/FeaturesViewer.qml\n",
            "Meshroom-2023.2.0/meshroom/ui/qml/Viewer/FloatImage.qml\n",
            "Meshroom-2023.2.0/meshroom/ui/qml/Viewer/HdrImageToolbar.qml\n",
            "Meshroom-2023.2.0/meshroom/ui/qml/Viewer/ImageMetadataView.qml\n",
            "Meshroom-2023.2.0/meshroom/ui/qml/Viewer/LensDistortionToolbar.qml\n",
            "Meshroom-2023.2.0/meshroom/ui/qml/Viewer/MFeatures.qml\n",
            "Meshroom-2023.2.0/meshroom/ui/qml/Viewer/MSfMData.qml\n",
            "Meshroom-2023.2.0/meshroom/ui/qml/Viewer/MTracks.qml\n",
            "Meshroom-2023.2.0/meshroom/ui/qml/Viewer/PanoramaToolbar.qml\n",
            "Meshroom-2023.2.0/meshroom/ui/qml/Viewer/PanoramaViewer.qml\n",
            "Meshroom-2023.2.0/meshroom/ui/qml/Viewer/SfmGlobalStats.qml\n",
            "Meshroom-2023.2.0/meshroom/ui/qml/Viewer/SfmStatsView.qml\n",
            "Meshroom-2023.2.0/meshroom/ui/qml/Viewer/TestAliceVisionPlugin.qml\n",
            "Meshroom-2023.2.0/meshroom/ui/qml/Viewer/Viewer2D.qml\n",
            "Meshroom-2023.2.0/meshroom/ui/qml/Viewer/qmldir\n",
            "Meshroom-2023.2.0/meshroom/ui/qml/Viewer3D/\n",
            "Meshroom-2023.2.0/meshroom/ui/qml/Viewer3D/AlembicLoader.qml\n",
            "Meshroom-2023.2.0/meshroom/ui/qml/Viewer3D/BoundingBox.qml\n",
            "Meshroom-2023.2.0/meshroom/ui/qml/Viewer3D/DefaultCameraController.qml\n",
            "Meshroom-2023.2.0/meshroom/ui/qml/Viewer3D/DepthMapLoader.qml\n",
            "Meshroom-2023.2.0/meshroom/ui/qml/Viewer3D/EntityWithGizmo.qml\n",
            "Meshroom-2023.2.0/meshroom/ui/qml/Viewer3D/EnvironmentMapEntity.qml\n",
            "Meshroom-2023.2.0/meshroom/ui/qml/Viewer3D/Grid3D.qml\n",
            "Meshroom-2023.2.0/meshroom/ui/qml/Viewer3D/ImageOverlay.qml\n",
            "Meshroom-2023.2.0/meshroom/ui/qml/Viewer3D/Inspector3D.qml\n",
            "Meshroom-2023.2.0/meshroom/ui/qml/Viewer3D/Locator3D.qml\n",
            "Meshroom-2023.2.0/meshroom/ui/qml/Viewer3D/MaterialSwitcher.qml\n",
            "Meshroom-2023.2.0/meshroom/ui/qml/Viewer3D/Materials/\n",
            "Meshroom-2023.2.0/meshroom/ui/qml/Viewer3D/Materials/SphericalHarmonicsEffect.qml\n",
            "Meshroom-2023.2.0/meshroom/ui/qml/Viewer3D/Materials/SphericalHarmonicsMaterial.qml\n",
            "Meshroom-2023.2.0/meshroom/ui/qml/Viewer3D/Materials/WireframeEffect.qml\n",
            "Meshroom-2023.2.0/meshroom/ui/qml/Viewer3D/Materials/WireframeMaterial.qml\n",
            "Meshroom-2023.2.0/meshroom/ui/qml/Viewer3D/Materials/shaders/\n",
            "Meshroom-2023.2.0/meshroom/ui/qml/Viewer3D/Materials/shaders/SphericalHarmonics.frag\n",
            "Meshroom-2023.2.0/meshroom/ui/qml/Viewer3D/Materials/shaders/SphericalHarmonics.vert\n",
            "Meshroom-2023.2.0/meshroom/ui/qml/Viewer3D/Materials/shaders/robustwireframe.frag\n",
            "Meshroom-2023.2.0/meshroom/ui/qml/Viewer3D/Materials/shaders/robustwireframe.geom\n",
            "Meshroom-2023.2.0/meshroom/ui/qml/Viewer3D/Materials/shaders/robustwireframe.vert\n",
            "Meshroom-2023.2.0/meshroom/ui/qml/Viewer3D/MediaCache.qml\n",
            "Meshroom-2023.2.0/meshroom/ui/qml/Viewer3D/MediaLibrary.qml\n",
            "Meshroom-2023.2.0/meshroom/ui/qml/Viewer3D/MediaLoader.qml\n",
            "Meshroom-2023.2.0/meshroom/ui/qml/Viewer3D/MediaLoaderEntity.qml\n",
            "Meshroom-2023.2.0/meshroom/ui/qml/Viewer3D/MeshingBoundingBox.qml\n",
            "Meshroom-2023.2.0/meshroom/ui/qml/Viewer3D/SfMTransformGizmo.qml\n",
            "Meshroom-2023.2.0/meshroom/ui/qml/Viewer3D/TrackballGizmo.qml\n",
            "Meshroom-2023.2.0/meshroom/ui/qml/Viewer3D/TransformGizmo.qml\n",
            "Meshroom-2023.2.0/meshroom/ui/qml/Viewer3D/TransformGizmoPicker.qml\n",
            "Meshroom-2023.2.0/meshroom/ui/qml/Viewer3D/Viewer3D.qml\n",
            "Meshroom-2023.2.0/meshroom/ui/qml/Viewer3D/Viewer3DSettings.qml\n",
            "Meshroom-2023.2.0/meshroom/ui/qml/Viewer3D/ViewpointCamera.qml\n",
            "Meshroom-2023.2.0/meshroom/ui/qml/Viewer3D/qmldir\n",
            "Meshroom-2023.2.0/meshroom/ui/qml/WorkspaceView.qml\n",
            "Meshroom-2023.2.0/meshroom/ui/qml/main.qml\n",
            "Meshroom-2023.2.0/meshroom/ui/reconstruction.py\n",
            "Meshroom-2023.2.0/meshroom/ui/utils.py\n",
            "Meshroom-2023.2.0/requirements.txt\n",
            "Meshroom-2023.2.0/setup.py\n",
            "Meshroom-2023.2.0/setupInitScriptUnix.py\n",
            "Meshroom-2023.2.0/start.bat\n",
            "Meshroom-2023.2.0/start.sh\n",
            "Meshroom-2023.2.0/tests/\n",
            "Meshroom-2023.2.0/tests/__init__.py\n",
            "Meshroom-2023.2.0/tests/nodes/\n",
            "Meshroom-2023.2.0/tests/nodes/__init__.py\n",
            "Meshroom-2023.2.0/tests/nodes/test/\n",
            "Meshroom-2023.2.0/tests/nodes/test/__init__.py\n",
            "Meshroom-2023.2.0/tests/nodes/test/appendFiles.py\n",
            "Meshroom-2023.2.0/tests/nodes/test/appendText.py\n",
            "Meshroom-2023.2.0/tests/nodes/test/ls.py\n",
            "Meshroom-2023.2.0/tests/test_compatibility.py\n",
            "Meshroom-2023.2.0/tests/test_graph.py\n",
            "Meshroom-2023.2.0/tests/test_invalidation.py\n",
            "Meshroom-2023.2.0/tests/test_model.py\n",
            "Meshroom-2023.2.0/tests/test_multiviewPipeline.py\n",
            "Meshroom-2023.2.0/tests/test_templatesVersion.py\n"
          ]
        }
      ]
    },
    {
      "cell_type": "markdown",
      "metadata": {
        "id": "rNG04CViFTU-"
      },
      "source": [
        "**2.1 Importare un workflow custom (facoltativo)**\n",
        "\n",
        "Se si vuole eseguire la ricostruzione utilizzando un workflow custom personalizzato eseguire la seguente cella decommentando(#) la stringa.\n",
        "\n",
        "Ricordarsi di aver modificato tutti i path all'interno del file .mg e di averlo importato su google drive rinominando il file in *myworkflow.mg*"
      ]
    },
    {
      "cell_type": "code",
      "metadata": {
        "id": "JWNRqon3GGAX"
      },
      "source": [
        "# !/content/meshroom/Meshroom-2021.1.0/meshroom_compute --forceCompute /content/drive/MyDrive/Documents/myworkflow.mg"
      ],
      "execution_count": null,
      "outputs": []
    },
    {
      "cell_type": "markdown",
      "metadata": {
        "id": "4E_kAx-2wq3O"
      },
      "source": [
        "**3. Eseguire Meshroom**\n",
        "\n",
        "Se i precendenti blocchi sono stati eseguiti senza errori, si può avviare la cella che effettua la vera e propria ricostruzione fotogrammetrica. Il workflow di default salverà ogni output parziale dentro la folder:\n",
        "\n",
        "* /tmp/MeshroomCache\n",
        "\n",
        "l'output finale, come riportato precedentemente, sarà salvato dentro:\n",
        "\n",
        "* /content/drive/MyDrive/output\n",
        "\n",
        "---\n",
        "---\n",
        "\n",
        "**NOTA BENE: IL RUNTIME HA UN LIMITE DI ESECUZIONE DI 12 ORE, PASSATE LE QUALI VIENE SMONTATO IL FILESYSTEM DI GOOGLE DRIVE E CANCELLATO IL CONTENUTO DI /TMP E /CONTENT. L'ESECUZIONE DEL RUNTIME E' IN BACKGROUND, MA PER VERIFICARE LO STATO DI AVANZAMENTO NON CHIUDERE LA PAGINA WEB.**\n"
      ]
    },
    {
      "cell_type": "code",
      "metadata": {
        "id": "3GimHqrGwsmu",
        "outputId": "91c250f4-0720-4314-e28f-e28c008a5904",
        "colab": {
          "base_uri": "https://localhost:8080/"
        }
      },
      "source": [
        "!python /content/meshroom/Meshroom-2023.2.0/bin/meshroom_batch --input '/content/drive/MyDrive/input' --output '/content/drive/MyDrive/output'"
      ],
      "execution_count": 26,
      "outputs": [
        {
          "output_type": "stream",
          "name": "stdout",
          "text": [
            "Traceback (most recent call last):\n",
            "  File \"/content/meshroom/Meshroom-2023.2.0/bin/meshroom_batch\", line 7, in <module>\n",
            "    import meshroom\n",
            "ModuleNotFoundError: No module named 'meshroom'\n"
          ]
        }
      ]
    },
    {
      "cell_type": "markdown",
      "metadata": {
        "id": "gltq0Trk9qao"
      },
      "source": [
        "# Preview della Mesh (facoltativo)\n",
        "\n",
        "Una volta terminata la ricostruzione è possibile eseguire una preview della mesh 3d per vierificare che l'elaborazione abbia creato un risultato consistente.\n",
        "\n",
        "Non è oggetto di questa guida tutto ciò che riguarda il lavoro di postproduzione della mesh."
      ]
    },
    {
      "cell_type": "markdown",
      "metadata": {
        "id": "49aKN-I0Oddu"
      },
      "source": [
        "**0. Preparazione dell'ambiente**\n",
        "\n",
        "Installare le librerie python numpy e trimesh per eseguire la preview"
      ]
    },
    {
      "cell_type": "code",
      "metadata": {
        "id": "uY7p1hKj81Uq"
      },
      "source": [
        "!pip install numpy\n",
        "!pip install trimesh\n",
        "%cd /content/drive/MyDrive/output"
      ],
      "execution_count": null,
      "outputs": []
    },
    {
      "cell_type": "markdown",
      "metadata": {
        "id": "kTYgiJauVF26"
      },
      "source": [
        "**1. Visualizzazione della mesh**\n",
        "\n",
        "Importare i moduli numpy e trimesh ed eseguirli\n",
        "\n",
        "Viene visualizzata una preview della mesh obj per verificare che effettivamente la ricostruzione abbia generato un risultato consistente."
      ]
    },
    {
      "cell_type": "code",
      "metadata": {
        "id": "fWi3nrpn8_ZT"
      },
      "source": [
        "import numpy as np\n",
        "import trimesh\n",
        "mesh = trimesh.load_mesh('texturedMesh.obj')\n",
        "mesh.show()"
      ],
      "execution_count": null,
      "outputs": []
    },
    {
      "cell_type": "markdown",
      "metadata": {
        "id": "XS7vvnDSdULM"
      },
      "source": [
        "*version 1.8*\n",
        "\n",
        "*Author: jacopo pica*\n",
        "\n",
        "*jpo85@hotmail.it*\n",
        "\n",
        "*https://it.linkedin.com/in/jacopo-pica-8164a4161*\n",
        "\n",
        "*https://github.com/jpo85*\n"
      ]
    }
  ]
}